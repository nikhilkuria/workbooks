{
  "nbformat": 4,
  "nbformat_minor": 0,
  "metadata": {
    "colab": {
      "name": "mnist.ipynb",
      "version": "0.3.2",
      "provenance": [],
      "collapsed_sections": []
    },
    "kernelspec": {
      "name": "python3",
      "display_name": "Python 3"
    }
  },
  "cells": [
    {
      "metadata": {
        "id": "eZzYfirkgwAN",
        "colab_type": "text"
      },
      "cell_type": "markdown",
      "source": [
        ""
      ]
    },
    {
      "metadata": {
        "id": "3pKvcuOrg4FF",
        "colab_type": "text"
      },
      "cell_type": "markdown",
      "source": [
        "## **Sample notebook for MNIST**"
      ]
    },
    {
      "metadata": {
        "id": "NF2NwalIgaIN",
        "colab_type": "code",
        "colab": {}
      },
      "cell_type": "code",
      "source": [
        "from __future__ import print_function\n",
        "import keras\n",
        "from keras.datasets import mnist\n",
        "from keras.models import Sequential\n",
        "from keras.layers import Dense, Dropout, Flatten\n",
        "from keras.layers import Conv2D, MaxPooling2D\n",
        "from keras import backend as K\n",
        "import numpy as np"
      ],
      "execution_count": 0,
      "outputs": []
    },
    {
      "metadata": {
        "id": "FwSLnfdNg_fz",
        "colab_type": "code",
        "colab": {}
      },
      "cell_type": "code",
      "source": [
        "batch_size = 128\n",
        "num_classes = 10\n",
        "epochs = 12"
      ],
      "execution_count": 0,
      "outputs": []
    },
    {
      "metadata": {
        "id": "OnFfQmUKhBfQ",
        "colab_type": "code",
        "colab": {}
      },
      "cell_type": "code",
      "source": [
        "img_rows, img_cols = 28, 28\n"
      ],
      "execution_count": 0,
      "outputs": []
    },
    {
      "metadata": {
        "id": "30blTsrThDlN",
        "colab_type": "code",
        "colab": {}
      },
      "cell_type": "code",
      "source": [
        "(x_train, y_train), (x_test, y_test) = mnist.load_data()"
      ],
      "execution_count": 0,
      "outputs": []
    },
    {
      "metadata": {
        "id": "MgIzGUc-hiPl",
        "colab_type": "text"
      },
      "cell_type": "markdown",
      "source": [
        "### Have a look at the dimensions and print out a random image"
      ]
    },
    {
      "metadata": {
        "id": "r-jrLL1NhGg_",
        "colab_type": "code",
        "outputId": "101a7332-1a4f-4de0-c001-5e892b0c143a",
        "colab": {
          "base_uri": "https://localhost:8080/",
          "height": 85
        }
      },
      "cell_type": "code",
      "source": [
        "print(x_train.shape)\n",
        "print(y_train.shape)\n",
        "print(x_test.shape)\n",
        "print(y_test.shape)"
      ],
      "execution_count": 54,
      "outputs": [
        {
          "output_type": "stream",
          "text": [
            "(60000, 28, 28)\n",
            "(60000,)\n",
            "(10000, 28, 28)\n",
            "(10000,)\n"
          ],
          "name": "stdout"
        }
      ]
    },
    {
      "metadata": {
        "id": "ndwp1AeOhRfZ",
        "colab_type": "code",
        "outputId": "afc5c32f-547c-48b4-89f6-20145dc22701",
        "colab": {
          "base_uri": "https://localhost:8080/",
          "height": 364
        }
      },
      "cell_type": "code",
      "source": [
        "import matplotlib.pyplot as plt\n",
        "plt.imshow(x_train[1])\n",
        "print(y_train[1])"
      ],
      "execution_count": 55,
      "outputs": [
        {
          "output_type": "stream",
          "text": [
            "0\n"
          ],
          "name": "stdout"
        },
        {
          "output_type": "display_data",
          "data": {
            "image/png": "[encoded data removed]",
            "text/plain": [
              "<matplotlib.figure.Figure at 0x7ff0125812b0>"
            ]
          },
          "metadata": {
            "tags": []
          }
        }
      ]
    },
    {
      "metadata": {
        "id": "dCFocfd2h-ch",
        "colab_type": "text"
      },
      "cell_type": "markdown",
      "source": [
        "### Reshape the data to be in line with what is expected by Keras"
      ]
    },
    {
      "metadata": {
        "id": "fmFYmb3_iFOS",
        "colab_type": "code",
        "colab": {
          "base_uri": "https://localhost:8080/",
          "height": 34
        },
        "outputId": "92d87a6c-8a32-46fd-e3e6-7d92639f49b7"
      },
      "cell_type": "code",
      "source": [
        "print(K.image_data_format())\n",
        "if K.image_data_format() == 'channels_first':\n",
        "    x_train = x_train.reshape(x_train.shape[0], 1, img_rows, img_cols)\n",
        "    x_test = x_test.reshape(x_test.shape[0], 1, img_rows, img_cols)\n",
        "    input_shape = (1, img_rows, img_cols)\n",
        "else:\n",
        "    x_train = x_train.reshape(x_train.shape[0], img_rows, img_cols, 1)\n",
        "    x_test = x_test.reshape(x_test.shape[0], img_rows, img_cols, 1)\n",
        "    input_shape = (img_rows, img_cols, 1)"
      ],
      "execution_count": 61,
      "outputs": [
        {
          "output_type": "stream",
          "text": [
            "channels_last\n"
          ],
          "name": "stdout"
        }
      ]
    },
    {
      "metadata": {
        "id": "C1Nv8L7liFri",
        "colab_type": "code",
        "outputId": "91c05b95-8b3a-4408-88ca-1a3349885a85",
        "colab": {
          "base_uri": "https://localhost:8080/",
          "height": 34
        }
      },
      "cell_type": "code",
      "source": [
        "print(x_train[0].dtype)"
      ],
      "execution_count": 0,
      "outputs": [
        {
          "output_type": "stream",
          "text": [
            "uint8\n"
          ],
          "name": "stdout"
        }
      ]
    },
    {
      "metadata": {
        "id": "g8tQcDZQirNY",
        "colab_type": "text"
      },
      "cell_type": "markdown",
      "source": [
        "### **Convert the classes to binary categories**"
      ]
    },
    {
      "metadata": {
        "id": "XkGOpEjNiPib",
        "colab_type": "code",
        "colab": {}
      },
      "cell_type": "code",
      "source": [
        "y_train = keras.utils.to_categorical(y_train, num_classes)\n",
        "y_test = keras.utils.to_categorical(y_test, num_classes)"
      ],
      "execution_count": 0,
      "outputs": []
    },
    {
      "metadata": {
        "id": "hx1yYzSai4U0",
        "colab_type": "text"
      },
      "cell_type": "markdown",
      "source": [
        "### Define a model"
      ]
    },
    {
      "metadata": {
        "id": "eZaitjuLi79_",
        "colab_type": "code",
        "colab": {}
      },
      "cell_type": "code",
      "source": [
        "model = Sequential()\n",
        "model.add(Conv2D(32, kernel_size=(3, 3),\n",
        "                 activation='relu',\n",
        "                 input_shape=input_shape))\n",
        "model.add(Conv2D(64, (3, 3), activation='relu'))\n",
        "model.add(MaxPooling2D(pool_size=(2, 2)))\n",
        "model.add(Dropout(0.25))\n",
        "model.add(Flatten())\n",
        "model.add(Dense(128, activation='relu'))\n",
        "model.add(Dropout(0.5))\n",
        "model.add(Dense(num_classes, activation='softmax'))"
      ],
      "execution_count": 0,
      "outputs": []
    },
    {
      "metadata": {
        "id": "S1kkm3LDjMSV",
        "colab_type": "text"
      },
      "cell_type": "markdown",
      "source": [
        "### Train the model"
      ]
    },
    {
      "metadata": {
        "id": "J3JFsZyUjOhH",
        "colab_type": "code",
        "outputId": "b6efe76a-17a0-490e-ce95-51c49ac27236",
        "colab": {
          "base_uri": "https://localhost:8080/",
          "height": 442
        }
      },
      "cell_type": "code",
      "source": [
        "model.compile(loss=keras.losses.categorical_crossentropy,\n",
        "              optimizer=keras.optimizers.Adadelta(),\n",
        "              metrics=['accuracy'])\n",
        "\n",
        "history = model.fit(x_train, y_train,\n",
        "          batch_size=batch_size,\n",
        "          epochs=epochs,\n",
        "          verbose=1,\n",
        "          validation_data=(x_test, y_test))"
      ],
      "execution_count": 11,
      "outputs": [
        {
          "output_type": "stream",
          "text": [
            "Train on 60000 samples, validate on 10000 samples\n",
            "Epoch 1/12\n",
            "60000/60000 [==============================] - 174s 3ms/step - loss: 1.0925 - acc: 0.8730 - val_loss: 0.0668 - val_acc: 0.9779\n",
            "Epoch 2/12\n",
            "60000/60000 [==============================] - 175s 3ms/step - loss: 0.1205 - acc: 0.9656 - val_loss: 0.0583 - val_acc: 0.9813\n",
            "Epoch 3/12\n",
            "60000/60000 [==============================] - 174s 3ms/step - loss: 0.0861 - acc: 0.9751 - val_loss: 0.0432 - val_acc: 0.9852\n",
            "Epoch 4/12\n",
            "60000/60000 [==============================] - 176s 3ms/step - loss: 0.0644 - acc: 0.9811 - val_loss: 0.0413 - val_acc: 0.9866\n",
            "Epoch 5/12\n",
            "60000/60000 [==============================] - 174s 3ms/step - loss: 0.0582 - acc: 0.9829 - val_loss: 0.0414 - val_acc: 0.9876\n",
            "Epoch 6/12\n",
            "60000/60000 [==============================] - 204s 3ms/step - loss: 0.0478 - acc: 0.9862 - val_loss: 0.0369 - val_acc: 0.9894\n",
            "Epoch 7/12\n",
            "60000/60000 [==============================] - 206s 3ms/step - loss: 0.0453 - acc: 0.9867 - val_loss: 0.0413 - val_acc: 0.9879\n",
            "Epoch 8/12\n",
            "60000/60000 [==============================] - 199s 3ms/step - loss: 0.0416 - acc: 0.9876 - val_loss: 0.0368 - val_acc: 0.9892\n",
            "Epoch 9/12\n",
            "60000/60000 [==============================] - 203s 3ms/step - loss: 0.0369 - acc: 0.9891 - val_loss: 0.0364 - val_acc: 0.9896\n",
            "Epoch 10/12\n",
            "60000/60000 [==============================] - 200s 3ms/step - loss: 0.0348 - acc: 0.9896 - val_loss: 0.0392 - val_acc: 0.9897\n",
            "Epoch 11/12\n",
            "60000/60000 [==============================] - 201s 3ms/step - loss: 0.0325 - acc: 0.9905 - val_loss: 0.0374 - val_acc: 0.9896\n",
            "Epoch 12/12\n",
            "60000/60000 [==============================] - 202s 3ms/step - loss: 0.0302 - acc: 0.9908 - val_loss: 0.0366 - val_acc: 0.9897\n"
          ],
          "name": "stdout"
        }
      ]
    },
    {
      "metadata": {
        "id": "JZU8B5cOqfiB",
        "colab_type": "text"
      },
      "cell_type": "markdown",
      "source": [
        "###summarize history for accuracy"
      ]
    },
    {
      "metadata": {
        "id": "-y85KEc0jRG6",
        "colab_type": "code",
        "colab": {
          "base_uri": "https://localhost:8080/",
          "height": 376
        },
        "outputId": "bf38f0e6-8362-4eff-99ff-8247e9c2ffac"
      },
      "cell_type": "code",
      "source": [
        "# summarize history for accuracy\n",
        "plt.plot(history.history['acc'])\n",
        "plt.plot(history.history['val_acc'])\n",
        "plt.title('model accuracy')\n",
        "plt.ylabel('accuracy')\n",
        "plt.xlabel('epoch')\n",
        "plt.legend(['train', 'test'], loc='upper left')\n",
        "plt.show()"
      ],
      "execution_count": 12,
      "outputs": [
        {
          "output_type": "display_data",
          "data": {
            "image/png": "[encoded data removed]",
            "text/plain": [
              "<matplotlib.figure.Figure at 0x7ff013178eb8>"
            ]
          },
          "metadata": {
            "tags": []
          }
        }
      ]
    },
    {
      "metadata": {
        "id": "MFYgRwAOqaAk",
        "colab_type": "text"
      },
      "cell_type": "markdown",
      "source": [
        "###**bold text** summarize history for loss"
      ]
    },
    {
      "metadata": {
        "id": "1PtYRwTyqZSd",
        "colab_type": "code",
        "colab": {
          "base_uri": "https://localhost:8080/",
          "height": 376
        },
        "outputId": "d469c918-163f-4a0f-a829-72785d24489c"
      },
      "cell_type": "code",
      "source": [
        "# summarize history for loss\n",
        "plt.plot(history.history['loss'])\n",
        "plt.plot(history.history['val_loss'])\n",
        "plt.title('model loss')\n",
        "plt.ylabel('loss')\n",
        "plt.xlabel('epoch')\n",
        "plt.legend(['train', 'test'], loc='upper left')\n",
        "plt.show()"
      ],
      "execution_count": 13,
      "outputs": [
        {
          "output_type": "display_data",
          "data": {
            "image/png": "[encoded data removed]",
            "text/plain": [
              "<matplotlib.figure.Figure at 0x7ff012929e48>"
            ]
          },
          "metadata": {
            "tags": []
          }
        }
      ]
    },
    {
      "metadata": {
        "id": "0bSFmHKxsYwu",
        "colab_type": "code",
        "colab": {
          "base_uri": "https://localhost:8080/",
          "height": 51
        },
        "outputId": "ff0de674-7837-4ced-99c2-c43ccaf55cb5"
      },
      "cell_type": "code",
      "source": [
        "score = model.evaluate(x_test, y_test, verbose=0)\n",
        "print('Test loss:', score[0])\n",
        "print('Test accuracy:', score[1])"
      ],
      "execution_count": 14,
      "outputs": [
        {
          "output_type": "stream",
          "text": [
            "Test loss: 0.03660158842748592\n",
            "Test accuracy: 0.9897\n"
          ],
          "name": "stdout"
        }
      ]
    },
    {
      "metadata": {
        "id": "1hzUmdlDshRH",
        "colab_type": "code",
        "colab": {}
      },
      "cell_type": "code",
      "source": [
        "# Add section for inference"
      ],
      "execution_count": 0,
      "outputs": []
    },
    {
      "metadata": {
        "id": "RQP-ghdLtAE1",
        "colab_type": "code",
        "colab": {
          "base_uri": "https://localhost:8080/",
          "height": 51
        },
        "outputId": "557afeaa-a299-4f36-c2d4-87d2e1aa9003"
      },
      "cell_type": "code",
      "source": [
        "test_image = x_test[0]\n",
        "# But this needs to be reshaped!\n",
        "print(\"Old shape (channels last) : \", test_image.shape)\n",
        "reshaped_test_image = np.moveaxis(test_image, -1, 0)\n",
        "print(\"New shape (channels first) : \", reshaped_test_image.shape)\n"
      ],
      "execution_count": 45,
      "outputs": [
        {
          "output_type": "stream",
          "text": [
            "Old shape (channels last) :  (28, 28, 1)\n",
            "New shape (channels first) :  (1, 28, 28)\n"
          ],
          "name": "stdout"
        }
      ]
    },
    {
      "metadata": {
        "id": "ktIi9gc4xR4j",
        "colab_type": "code",
        "colab": {
          "base_uri": "https://localhost:8080/",
          "height": 51
        },
        "outputId": "3144a7c8-fe71-4e11-891e-a2e9a55b1914"
      },
      "cell_type": "code",
      "source": [
        "expected_result = y_test[0]\n",
        "print(\"expected result : \",expected_result)\n",
        "print(reshaped_test_image.shape)"
      ],
      "execution_count": 46,
      "outputs": [
        {
          "output_type": "stream",
          "text": [
            "expected result :  [0. 0. 0. 0. 0. 0. 0. 1. 0. 0.]\n",
            "(1, 28, 28)\n"
          ],
          "name": "stdout"
        }
      ]
    },
    {
      "metadata": {
        "id": "tbD0P-cqzx31",
        "colab_type": "code",
        "colab": {
          "base_uri": "https://localhost:8080/",
          "height": 51
        },
        "outputId": "cdc2390e-4d94-4d8b-e2e8-0cfbcf7ac4b9"
      },
      "cell_type": "code",
      "source": [
        "print(test_image.shape)\n",
        "print(np.array([test_image]).shape)"
      ],
      "execution_count": 42,
      "outputs": [
        {
          "output_type": "stream",
          "text": [
            "(28, 28, 1)\n",
            "(1, 28, 28, 1)\n"
          ],
          "name": "stdout"
        }
      ]
    },
    {
      "metadata": {
        "id": "tCqEsNLxzMj6",
        "colab_type": "code",
        "colab": {
          "base_uri": "https://localhost:8080/",
          "height": 34
        },
        "outputId": "2b8a1c0b-dc7d-4e6c-86ea-e56867be1c23"
      },
      "cell_type": "code",
      "source": [
        "model.predict(np.array([test_image])).astype(np.int)"
      ],
      "execution_count": 49,
      "outputs": [
        {
          "output_type": "execute_result",
          "data": {
            "text/plain": [
              "array([[0, 0, 0, 0, 0, 0, 0, 1, 0, 0]])"
            ]
          },
          "metadata": {
            "tags": []
          },
          "execution_count": 49
        }
      ]
    },
    {
      "metadata": {
        "id": "wKri9fXZzZfg",
        "colab_type": "code",
        "colab": {}
      },
      "cell_type": "code",
      "source": [
        ""
      ],
      "execution_count": 0,
      "outputs": []
    }
  ]
}
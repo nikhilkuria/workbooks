{
  "nbformat": 4,
  "nbformat_minor": 0,
  "metadata": {
    "colab": {
      "name": "Untitled0.ipynb",
      "version": "0.3.2",
      "provenance": []
    },
    "kernelspec": {
      "name": "python3",
      "display_name": "Python 3"
    }
  },
  "cells": [
    {
      "metadata": {
        "id": "eZzYfirkgwAN",
        "colab_type": "text"
      },
      "cell_type": "markdown",
      "source": [
        ""
      ]
    },
    {
      "metadata": {
        "id": "3pKvcuOrg4FF",
        "colab_type": "text"
      },
      "cell_type": "markdown",
      "source": [
        "## **Sample notebook for MNIST**"
      ]
    },
    {
      "metadata": {
        "id": "NF2NwalIgaIN",
        "colab_type": "code",
        "colab": {
          "base_uri": "https://localhost:8080/",
          "height": 34
        },
        "outputId": "59723df4-eba0-453f-e179-d079c2a9a3b0"
      },
      "cell_type": "code",
      "source": [
        "from __future__ import print_function\n",
        "import keras\n",
        "from keras.datasets import mnist\n",
        "from keras.models import Sequential\n",
        "from keras.layers import Dense, Dropout, Flatten\n",
        "from keras.layers import Conv2D, MaxPooling2D\n",
        "from keras import backend as K"
      ],
      "execution_count": 1,
      "outputs": [
        {
          "output_type": "stream",
          "text": [
            "Using TensorFlow backend.\n"
          ],
          "name": "stderr"
        }
      ]
    },
    {
      "metadata": {
        "id": "FwSLnfdNg_fz",
        "colab_type": "code",
        "colab": {}
      },
      "cell_type": "code",
      "source": [
        "batch_size = 128\n",
        "num_classes = 10\n",
        "epochs = 12"
      ],
      "execution_count": 0,
      "outputs": []
    },
    {
      "metadata": {
        "id": "OnFfQmUKhBfQ",
        "colab_type": "code",
        "colab": {}
      },
      "cell_type": "code",
      "source": [
        "img_rows, img_cols = 28, 28\n"
      ],
      "execution_count": 0,
      "outputs": []
    },
    {
      "metadata": {
        "id": "30blTsrThDlN",
        "colab_type": "code",
        "colab": {
          "base_uri": "https://localhost:8080/",
          "height": 51
        },
        "outputId": "09545728-231f-4da0-efa0-7f5d24fd9ce1"
      },
      "cell_type": "code",
      "source": [
        "(x_train, y_train), (x_test, y_test) = mnist.load_data()"
      ],
      "execution_count": 5,
      "outputs": [
        {
          "output_type": "stream",
          "text": [
            "Downloading data from https://s3.amazonaws.com/img-datasets/mnist.npz\n",
            "11493376/11490434 [==============================] - 0s 0us/step\n"
          ],
          "name": "stdout"
        }
      ]
    },
    {
      "metadata": {
        "id": "MgIzGUc-hiPl",
        "colab_type": "text"
      },
      "cell_type": "markdown",
      "source": [
        "### Have a look at the dimensions and print out a random image"
      ]
    },
    {
      "metadata": {
        "id": "r-jrLL1NhGg_",
        "colab_type": "code",
        "colab": {
          "base_uri": "https://localhost:8080/",
          "height": 85
        },
        "outputId": "19af7dc7-4fdb-4053-a314-894760d04064"
      },
      "cell_type": "code",
      "source": [
        "print(x_train.shape)\n",
        "print(y_train.shape)\n",
        "print(x_test.shape)\n",
        "print(y_test.shape)"
      ],
      "execution_count": 7,
      "outputs": [
        {
          "output_type": "stream",
          "text": [
            "(60000, 28, 28)\n",
            "(60000,)\n",
            "(10000, 28, 28)\n",
            "(10000,)\n"
          ],
          "name": "stdout"
        }
      ]
    },
    {
      "metadata": {
        "id": "ndwp1AeOhRfZ",
        "colab_type": "code",
        "colab": {
          "base_uri": "https://localhost:8080/",
          "height": 364
        },
        "outputId": "2a13478b-617a-43c9-d403-791c70c1022b"
      },
      "cell_type": "code",
      "source": [
        "import matplotlib.pyplot as plt\n",
        "plt.imshow(x_train[1])\n",
        "print(y_train[1])"
      ],
      "execution_count": 10,
      "outputs": [
        {
          "output_type": "stream",
          "text": [
            "0\n"
          ],
          "name": "stdout"
        },
        {
          "output_type": "display_data",
          "data": {
            "image/png": "[encoded data removed]",
            "text/plain": [
              "<matplotlib.figure.Figure at 0x7f2f5d64e6a0>"
            ]
          },
          "metadata": {
            "tags": []
          }
        }
      ]
    },
    {
      "metadata": {
        "id": "dCFocfd2h-ch",
        "colab_type": "text"
      },
      "cell_type": "markdown",
      "source": [
        "### Reshape the data to be in line with what is expected by Keras"
      ]
    },
    {
      "metadata": {
        "id": "fmFYmb3_iFOS",
        "colab_type": "code",
        "colab": {}
      },
      "cell_type": "code",
      "source": [
        "if K.image_data_format() == 'channels_first':\n",
        "    x_train = x_train.reshape(x_train.shape[0], 1, img_rows, img_cols)\n",
        "    x_test = x_test.reshape(x_test.shape[0], 1, img_rows, img_cols)\n",
        "    input_shape = (1, img_rows, img_cols)\n",
        "else:\n",
        "    x_train = x_train.reshape(x_train.shape[0], img_rows, img_cols, 1)\n",
        "    x_test = x_test.reshape(x_test.shape[0], img_rows, img_cols, 1)\n",
        "    input_shape = (img_rows, img_cols, 1)"
      ],
      "execution_count": 0,
      "outputs": []
    },
    {
      "metadata": {
        "id": "C1Nv8L7liFri",
        "colab_type": "code",
        "colab": {
          "base_uri": "https://localhost:8080/",
          "height": 34
        },
        "outputId": "21a206a4-d194-4037-856a-a1d0e2ffc6e2"
      },
      "cell_type": "code",
      "source": [
        "print(x_train[0].dtype)"
      ],
      "execution_count": 17,
      "outputs": [
        {
          "output_type": "stream",
          "text": [
            "uint8\n"
          ],
          "name": "stdout"
        }
      ]
    },
    {
      "metadata": {
        "id": "g8tQcDZQirNY",
        "colab_type": "text"
      },
      "cell_type": "markdown",
      "source": [
        "### **Convert the classes to binary categories**"
      ]
    },
    {
      "metadata": {
        "id": "XkGOpEjNiPib",
        "colab_type": "code",
        "colab": {}
      },
      "cell_type": "code",
      "source": [
        "y_train = keras.utils.to_categorical(y_train, num_classes)\n",
        "y_test = keras.utils.to_categorical(y_test, num_classes)"
      ],
      "execution_count": 0,
      "outputs": []
    },
    {
      "metadata": {
        "id": "hx1yYzSai4U0",
        "colab_type": "text"
      },
      "cell_type": "markdown",
      "source": [
        "### Define a model"
      ]
    },
    {
      "metadata": {
        "id": "eZaitjuLi79_",
        "colab_type": "code",
        "colab": {}
      },
      "cell_type": "code",
      "source": [
        "model = Sequential()\n",
        "model.add(Conv2D(32, kernel_size=(3, 3),\n",
        "                 activation='relu',\n",
        "                 input_shape=input_shape))\n",
        "model.add(Conv2D(64, (3, 3), activation='relu'))\n",
        "model.add(MaxPooling2D(pool_size=(2, 2)))\n",
        "model.add(Dropout(0.25))\n",
        "model.add(Flatten())\n",
        "model.add(Dense(128, activation='relu'))\n",
        "model.add(Dropout(0.5))\n",
        "model.add(Dense(num_classes, activation='softmax'))"
      ],
      "execution_count": 0,
      "outputs": []
    },
    {
      "metadata": {
        "id": "S1kkm3LDjMSV",
        "colab_type": "text"
      },
      "cell_type": "markdown",
      "source": [
        "### Train the model"
      ]
    },
    {
      "metadata": {
        "id": "J3JFsZyUjOhH",
        "colab_type": "code",
        "colab": {
          "base_uri": "https://localhost:8080/",
          "height": 442
        },
        "outputId": "f32e0c09-0f5d-45b3-b8cb-0115a1cff75f"
      },
      "cell_type": "code",
      "source": [
        "model.compile(loss=keras.losses.categorical_crossentropy,\n",
        "              optimizer=keras.optimizers.Adadelta(),\n",
        "              metrics=['accuracy'])\n",
        "\n",
        "history = model.fit(x_train, y_train,\n",
        "          batch_size=batch_size,\n",
        "          epochs=epochs,\n",
        "          verbose=1,\n",
        "          validation_data=(x_test, y_test))"
      ],
      "execution_count": 22,
      "outputs": [
        {
          "output_type": "stream",
          "text": [
            "Train on 60000 samples, validate on 10000 samples\n",
            "Epoch 1/12\n",
            "60000/60000 [==============================] - 194s 3ms/step - loss: 0.2162 - acc: 0.9377 - val_loss: 0.0744 - val_acc: 0.9771\n",
            "Epoch 2/12\n",
            "60000/60000 [==============================] - 194s 3ms/step - loss: 0.1105 - acc: 0.9685 - val_loss: 0.0490 - val_acc: 0.9843\n",
            "Epoch 3/12\n",
            "60000/60000 [==============================] - 193s 3ms/step - loss: 0.0841 - acc: 0.9755 - val_loss: 0.0512 - val_acc: 0.9840\n",
            "Epoch 4/12\n",
            "60000/60000 [==============================] - 193s 3ms/step - loss: 0.0675 - acc: 0.9796 - val_loss: 0.0436 - val_acc: 0.9860\n",
            "Epoch 5/12\n",
            "60000/60000 [==============================] - 193s 3ms/step - loss: 0.0582 - acc: 0.9829 - val_loss: 0.0443 - val_acc: 0.9869\n",
            "Epoch 6/12\n",
            "60000/60000 [==============================] - 194s 3ms/step - loss: 0.0523 - acc: 0.9845 - val_loss: 0.0402 - val_acc: 0.9882\n",
            "Epoch 7/12\n",
            "60000/60000 [==============================] - 189s 3ms/step - loss: 0.0456 - acc: 0.9860 - val_loss: 0.0378 - val_acc: 0.9883\n",
            "Epoch 8/12\n",
            "60000/60000 [==============================] - 194s 3ms/step - loss: 0.0422 - acc: 0.9873 - val_loss: 0.0367 - val_acc: 0.9890\n",
            "Epoch 9/12\n",
            "60000/60000 [==============================] - 193s 3ms/step - loss: 0.0380 - acc: 0.9884 - val_loss: 0.0452 - val_acc: 0.9874\n",
            "Epoch 10/12\n",
            "60000/60000 [==============================] - 192s 3ms/step - loss: 0.0347 - acc: 0.9893 - val_loss: 0.0405 - val_acc: 0.9889\n",
            "Epoch 11/12\n",
            "60000/60000 [==============================] - 191s 3ms/step - loss: 0.0329 - acc: 0.9904 - val_loss: 0.0374 - val_acc: 0.9894\n",
            "Epoch 12/12\n",
            "60000/60000 [==============================] - 192s 3ms/step - loss: 0.0330 - acc: 0.9903 - val_loss: 0.0377 - val_acc: 0.9889\n"
          ],
          "name": "stdout"
        }
      ]
    },
    {
      "metadata": {
        "id": "JZU8B5cOqfiB",
        "colab_type": "text"
      },
      "cell_type": "markdown",
      "source": [
        "###summarize history for accuracy"
      ]
    },
    {
      "metadata": {
        "id": "-y85KEc0jRG6",
        "colab_type": "code",
        "colab": {
          "base_uri": "https://localhost:8080/",
          "height": 376
        },
        "outputId": "eeaa8a9b-c7ba-45cb-8830-c122dda07fdb"
      },
      "cell_type": "code",
      "source": [
        "# summarize history for accuracy\n",
        "plt.plot(history.history['acc'])\n",
        "plt.plot(history.history['val_acc'])\n",
        "plt.title('model accuracy')\n",
        "plt.ylabel('accuracy')\n",
        "plt.xlabel('epoch')\n",
        "plt.legend(['train', 'test'], loc='upper left')\n",
        "plt.show()"
      ],
      "execution_count": 23,
      "outputs": [
        {
          "output_type": "display_data",
          "data": {
            "image/png": "[encoded data removed]",
            "text/plain": [
              "<matplotlib.figure.Figure at 0x7f2f5920cb38>"
            ]
          },
          "metadata": {
            "tags": []
          }
        }
      ]
    },
    {
      "metadata": {
        "id": "MFYgRwAOqaAk",
        "colab_type": "text"
      },
      "cell_type": "markdown",
      "source": [
        "###**bold text** summarize history for loss"
      ]
    },
    {
      "metadata": {
        "id": "1PtYRwTyqZSd",
        "colab_type": "code",
        "colab": {
          "base_uri": "https://localhost:8080/",
          "height": 376
        },
        "outputId": "23f75c98-a5cb-4a7e-f81b-33337c061616"
      },
      "cell_type": "code",
      "source": [
        "# summarize history for loss\n",
        "plt.plot(history.history['loss'])\n",
        "plt.plot(history.history['val_loss'])\n",
        "plt.title('model loss')\n",
        "plt.ylabel('loss')\n",
        "plt.xlabel('epoch')\n",
        "plt.legend(['train', 'test'], loc='upper left')\n",
        "plt.show()"
      ],
      "execution_count": 25,
      "outputs": [
        {
          "output_type": "display_data",
          "data": {
            "image/png": "[encoded data removed]",
            "text/plain": [
              "<matplotlib.figure.Figure at 0x7f2f59148a90>"
            ]
          },
          "metadata": {
            "tags": []
          }
        }
      ]
    },
    {
      "metadata": {
        "id": "0bSFmHKxsYwu",
        "colab_type": "code",
        "colab": {
          "base_uri": "https://localhost:8080/",
          "height": 51
        },
        "outputId": "af5889e3-932a-4e52-867f-9140f050076f"
      },
      "cell_type": "code",
      "source": [
        "score = model.evaluate(x_test, y_test, verbose=0)\n",
        "print('Test loss:', score[0])\n",
        "print('Test accuracy:', score[1])"
      ],
      "execution_count": 26,
      "outputs": [
        {
          "output_type": "stream",
          "text": [
            "Test loss: 0.03767545551183721\n",
            "Test accuracy: 0.9889\n"
          ],
          "name": "stdout"
        }
      ]
    },
    {
      "metadata": {
        "id": "1hzUmdlDshRH",
        "colab_type": "code",
        "colab": {}
      },
      "cell_type": "code",
      "source": [
        "# Add section for inference"
      ],
      "execution_count": 0,
      "outputs": []
    },
    {
      "metadata": {
        "id": "RQP-ghdLtAE1",
        "colab_type": "code",
        "colab": {}
      },
      "cell_type": "code",
      "source": [
        ""
      ],
      "execution_count": 0,
      "outputs": []
    }
  ]
}
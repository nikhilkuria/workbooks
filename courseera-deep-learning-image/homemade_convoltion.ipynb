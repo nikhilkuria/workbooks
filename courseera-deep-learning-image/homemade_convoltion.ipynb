{
 "cells": [
  {
   "cell_type": "code",
   "execution_count": 29,
   "metadata": {},
   "outputs": [],
   "source": [
    "from scipy import signal"
   ]
  },
  {
   "cell_type": "code",
   "execution_count": 22,
   "metadata": {},
   "outputs": [],
   "source": [
    "image = [\n",
    "    [8, 6, 2, 7], \n",
    "    [6, 2, 4, 1], \n",
    "    [5, 8, 5, 2], \n",
    "    [3, 0, 3, 2]\n",
    "]\n",
    "kernel = [\n",
    "    [4, 3], \n",
    "    [7, 2]\n",
    "]"
   ]
  },
  {
   "cell_type": "code",
   "execution_count": 23,
   "metadata": {},
   "outputs": [],
   "source": [
    "def convolve(slice, kernel):\n",
    "    result = 0\n",
    "    for x in range(len(slice)):\n",
    "        for y in range(len(slice[0])):\n",
    "            result += slice[x][y] * kernel[x][y]\n",
    "    return result"
   ]
  },
  {
   "cell_type": "code",
   "execution_count": 33,
   "metadata": {},
   "outputs": [
    {
     "name": "stdout",
     "output_type": "stream",
     "text": [
      "[[8, 6], [6, 2]]\n",
      "96\n",
      "[[6, 2], [2, 4]]\n",
      "52\n",
      "[[2, 7], [4, 1]]\n",
      "59\n",
      "[[6, 2], [5, 8]]\n",
      "81\n",
      "[[2, 4], [8, 5]]\n",
      "86\n",
      "[[4, 1], [5, 2]]\n",
      "58\n",
      "[[5, 8], [3, 0]]\n",
      "65\n",
      "[[8, 5], [0, 3]]\n",
      "53\n",
      "[[5, 2], [3, 2]]\n",
      "51\n"
     ]
    },
    {
     "ename": "AttributeError",
     "evalue": "'list' object has no attribute 'astype'",
     "output_type": "error",
     "traceback": [
      "\u001b[0;31m---------------------------------------------------------------------------\u001b[0m",
      "\u001b[0;31mAttributeError\u001b[0m                            Traceback (most recent call last)",
      "\u001b[0;32m<ipython-input-33-d4e44ae38db0>\u001b[0m in \u001b[0;36m<module>\u001b[0;34m\u001b[0m\n\u001b[1;32m     13\u001b[0m     \u001b[0mconvolution_result\u001b[0m\u001b[0;34m.\u001b[0m\u001b[0mappend\u001b[0m\u001b[0;34m(\u001b[0m\u001b[0mconvolution_result_row\u001b[0m\u001b[0;34m)\u001b[0m\u001b[0;34m\u001b[0m\u001b[0m\n\u001b[1;32m     14\u001b[0m \u001b[0;34m\u001b[0m\u001b[0m\n\u001b[0;32m---> 15\u001b[0;31m \u001b[0mprint\u001b[0m\u001b[0;34m(\u001b[0m\u001b[0mconvolution_result\u001b[0m\u001b[0;34m.\u001b[0m\u001b[0mastype\u001b[0m\u001b[0;34m(\u001b[0m\u001b[0mint\u001b[0m\u001b[0;34m)\u001b[0m\u001b[0;34m)\u001b[0m\u001b[0;34m\u001b[0m\u001b[0m\n\u001b[0m",
      "\u001b[0;31mAttributeError\u001b[0m: 'list' object has no attribute 'astype'"
     ]
    }
   ],
   "source": [
    "convolution_result = []\n",
    "for x in range(len(image)-1):\n",
    "    convolution_result_row = []\n",
    "    for y in range(len(image[0])-1):\n",
    "        slice = [ \n",
    "            [ image[x][y],     image[x][y+1] ],\n",
    "            [ image[x+1][y],  image[x+1][y+1] ]\n",
    "                 ]\n",
    "        result = convolve(slice, kernel)\n",
    "        print(slice)\n",
    "        print(result)\n",
    "        convolution_result_row.append(result)\n",
    "    convolution_result.append(convolution_result_row)\n",
    "\n",
    "print(convolution_result.astype(int))"
   ]
  },
  {
   "cell_type": "code",
   "execution_count": 37,
   "metadata": {},
   "outputs": [
    {
     "name": "stdout",
     "output_type": "stream",
     "text": [
      "[[84 48 69]\n",
      " [73 76 38]\n",
      " [75 63 41]]\n"
     ]
    }
   ],
   "source": [
    "# Comparision with standard libraries \n",
    "result = signal.convolve2d(image, kernel, mode='valid')\n",
    "print(result)"
   ]
  },
  {
   "cell_type": "code",
   "execution_count": null,
   "metadata": {},
   "outputs": [],
   "source": []
  },
  {
   "cell_type": "code",
   "execution_count": null,
   "metadata": {},
   "outputs": [],
   "source": []
  }
 ],
 "metadata": {
  "kernelspec": {
   "display_name": "Python 3",
   "language": "python",
   "name": "python3"
  },
  "language_info": {
   "codemirror_mode": {
    "name": "ipython",
    "version": 3
   },
   "file_extension": ".py",
   "mimetype": "text/x-python",
   "name": "python",
   "nbconvert_exporter": "python",
   "pygments_lexer": "ipython3",
   "version": "3.6.4"
  }
 },
 "nbformat": 4,
 "nbformat_minor": 2
}

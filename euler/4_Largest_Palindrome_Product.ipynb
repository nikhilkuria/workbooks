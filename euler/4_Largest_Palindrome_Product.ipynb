{
 "cells": [
  {
   "cell_type": "markdown",
   "metadata": {},
   "source": [
    "A palindromic number reads the same both ways. The largest palindrome made from the product of two 2-digit numbers is 9009 = 91 × 99.\n",
    "\n",
    "Find the largest palindrome made from the product of two 3-digit numbers.\n"
   ]
  },
  {
   "cell_type": "markdown",
   "metadata": {},
   "source": [
    "---"
   ]
  },
  {
   "cell_type": "code",
   "execution_count": 69,
   "metadata": {},
   "outputs": [],
   "source": [
    "import math"
   ]
  },
  {
   "cell_type": "code",
   "execution_count": 70,
   "metadata": {},
   "outputs": [],
   "source": [
    "floor =  100 * 100"
   ]
  },
  {
   "cell_type": "code",
   "execution_count": 71,
   "metadata": {},
   "outputs": [],
   "source": [
    "ceiling = 999 * 999"
   ]
  },
  {
   "cell_type": "code",
   "execution_count": 101,
   "metadata": {},
   "outputs": [],
   "source": [
    "def get_palindromes_in_range(floor,ceiling):\n",
    "    palindromes = set()\n",
    "    for num in range(ceiling,floor,-1):\n",
    "        # Reverse the string and compare strings\n",
    "        if str(num) == str(num)[::-1]:\n",
    "            yield num\n",
    "    return palindromes"
   ]
  },
  {
   "cell_type": "code",
   "execution_count": 102,
   "metadata": {},
   "outputs": [],
   "source": [
    "def find_palindrome(floor, ceiling):\n",
    "    palindromes = get_palindromes_in_range(floor,ceiling)\n",
    "    for palindrome in palindromes:\n",
    "        for multiple in range(100,1000):\n",
    "            #is perfectly divisible and other multiple is a three digit number\n",
    "            if palindrome%multiple==0 and palindrome/multiple>=100 and palindrome/multiple<=1000:\n",
    "                print(f\"Found palindrome {palindrome} with multiples {multiple} and {int(palindrome/multiple)}\")\n",
    "                return palindrome"
   ]
  },
  {
   "cell_type": "code",
   "execution_count": 103,
   "metadata": {},
   "outputs": [
    {
     "name": "stdout",
     "output_type": "stream",
     "text": [
      "Found palindrome 906609 with multiples 913 and 993\n"
     ]
    },
    {
     "data": {
      "text/plain": [
       "906609"
      ]
     },
     "execution_count": 103,
     "metadata": {},
     "output_type": "execute_result"
    }
   ],
   "source": [
    "find_palindrome(floor, ceiling)"
   ]
  },
  {
   "cell_type": "code",
   "execution_count": null,
   "metadata": {},
   "outputs": [],
   "source": []
  }
 ],
 "metadata": {
  "kernelspec": {
   "display_name": "Python 3",
   "language": "python",
   "name": "python3"
  },
  "language_info": {
   "codemirror_mode": {
    "name": "ipython",
    "version": 3
   },
   "file_extension": ".py",
   "mimetype": "text/x-python",
   "name": "python",
   "nbconvert_exporter": "python",
   "pygments_lexer": "ipython3",
   "version": "3.6.4"
  }
 },
 "nbformat": 4,
 "nbformat_minor": 2
}

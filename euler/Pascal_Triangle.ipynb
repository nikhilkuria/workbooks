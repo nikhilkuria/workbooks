{
 "cells": [
  {
   "cell_type": "markdown",
   "metadata": {},
   "source": [
    "#### Pascal's triangle\n",
    "            1\n",
    "           1 1\n",
    "          1 2 1\n",
    "         1 3 3 1\n",
    "        1 4 6 4 1\n",
    "       1 5 10 10 5 1\n",
    "      1 6 15 20 15 6 1\n",
    " \n",
    "Write a fumnction which takes in the row and column and returns the number in that position"
   ]
  },
  {
   "cell_type": "code",
   "execution_count": 43,
   "metadata": {},
   "outputs": [],
   "source": [
    "SPACE = ' '"
   ]
  },
  {
   "cell_type": "code",
   "execution_count": 44,
   "metadata": {},
   "outputs": [],
   "source": [
    "def get_pascal_number(row, column):\n",
    "    if column < 0 or column > row:\n",
    "        return 0\n",
    "    if row == 0:\n",
    "        return 1\n",
    "    pascal_number = get_pascal_number(row-1,column-1) + get_pascal_number(row-1,column)\n",
    "    return pascal_number"
   ]
  },
  {
   "cell_type": "code",
   "execution_count": 46,
   "metadata": {},
   "outputs": [
    {
     "name": "stdout",
     "output_type": "stream",
     "text": [
      "          1 \n",
      "         1 1 \n",
      "        1 2 1 \n",
      "       1 3 3 1 \n",
      "      1 4 6 4 1 \n",
      "     1 5 10 10 5 1 \n",
      "    1 6 15 20 15 6 1 \n",
      "   1 7 21 35 35 21 7 1 \n",
      "  1 8 28 56 70 56 28 8 1 \n",
      " 1 9 36 84 126 126 84 36 9 1 \n"
     ]
    }
   ],
   "source": [
    "for row_number in range(10):\n",
    "    for _ in range(10-row_number):\n",
    "        print(f\"{SPACE}\", end='')\n",
    "    for column_number in range(row_number+1):\n",
    "        pascal_number = get_pascal_number(row_number,column_number)\n",
    "        print(f\"{pascal_number}{SPACE}\", end='')\n",
    "    print('')"
   ]
  },
  {
   "cell_type": "code",
   "execution_count": null,
   "metadata": {},
   "outputs": [],
   "source": []
  }
 ],
 "metadata": {
  "kernelspec": {
   "display_name": "Python 3",
   "language": "python",
   "name": "python3"
  },
  "language_info": {
   "codemirror_mode": {
    "name": "ipython",
    "version": 3
   },
   "file_extension": ".py",
   "mimetype": "text/x-python",
   "name": "python",
   "nbconvert_exporter": "python",
   "pygments_lexer": "ipython3",
   "version": "3.6.4"
  }
 },
 "nbformat": 4,
 "nbformat_minor": 2
}

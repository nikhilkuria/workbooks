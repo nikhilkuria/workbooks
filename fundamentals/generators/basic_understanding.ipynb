{
 "cells": [
  {
   "cell_type": "code",
   "execution_count": 1,
   "metadata": {},
   "outputs": [],
   "source": [
    "import math"
   ]
  },
  {
   "cell_type": "markdown",
   "metadata": {},
   "source": [
    "### Generators\n",
    "\n",
    "A typical generator definition looks like the below. We swap out the `return` statement with a `yield statement` and provide two values. We use this generator by instantiating it with () then iterating over it. In Python, generators are generalised as \"iterables\" and support the __iter__/__next__ protocols. Many different things are iterable (lists, tuples, dictionaries, generators, &c.) \n",
    "\n",
    "When a `yield` statement is encountered, the value is retuned to the calling class. The flow is also returned to the calling class. When a next() is called on the generator, the execution continues from the `yield` statement"
   ]
  },
  {
   "cell_type": "code",
   "execution_count": 2,
   "metadata": {},
   "outputs": [],
   "source": [
    "def get_prime_number(number):\n",
    "    while True:\n",
    "        if is_prime(number):\n",
    "            yield number\n",
    "        number += 1"
   ]
  },
  {
   "cell_type": "code",
   "execution_count": 3,
   "metadata": {},
   "outputs": [],
   "source": [
    "def is_prime(number):\n",
    "    \"\"\"\n",
    "    If number is 1, return False\n",
    "    If the number 2, return True\n",
    "    If the number is divisible by 2, return False\n",
    "    else,\n",
    "    if the number is divisible by any number <= sqrt(num), return True,\n",
    "    else, false\n",
    "    :param number:\n",
    "    :return: boolean\n",
    "    \"\"\"\n",
    "    if number > 1:\n",
    "        if number == 2:\n",
    "            return True\n",
    "        if number % 2 == 0:\n",
    "            return False\n",
    "        else:\n",
    "            # Step by 2 to avoid even numbers\n",
    "            for divisor in range(3, int(math.sqrt(number)) + 1, 2):\n",
    "                if number % divisor == 0:\n",
    "                    return False\n",
    "            return True\n",
    "    else:\n",
    "        return False\n"
   ]
  },
  {
   "cell_type": "code",
   "execution_count": 4,
   "metadata": {},
   "outputs": [],
   "source": [
    "prime_generator = get_prime_number(1)"
   ]
  },
  {
   "cell_type": "code",
   "execution_count": 5,
   "metadata": {},
   "outputs": [
    {
     "name": "stdout",
     "output_type": "stream",
     "text": [
      "2\n",
      "3\n",
      "5\n",
      "7\n",
      "11\n",
      "13\n",
      "17\n",
      "19\n",
      "23\n",
      "29\n"
     ]
    }
   ],
   "source": [
    "for _ in range(10):\n",
    "    print(next(prime_generator))"
   ]
  },
  {
   "cell_type": "markdown",
   "metadata": {},
   "source": [
    "#### Passing values to a generator\n",
    "\n",
    "It's possible to pass values to a generator from a calling class. When such a statement is encountered. \n",
    "```\n",
    "new_value = yield value\n",
    "```\n",
    "Thie means, the `value` is passed to the caller. You can then pass a value back to the generator using `generator_name.send(new_value)`. This is used instead of making a `next()` call "
   ]
  },
  {
   "cell_type": "code",
   "execution_count": 12,
   "metadata": {},
   "outputs": [],
   "source": [
    "def get_primes(number):\n",
    "    while True:\n",
    "        if is_prime(number):\n",
    "            number = yield number\n",
    "        number += 1"
   ]
  },
  {
   "cell_type": "code",
   "execution_count": 15,
   "metadata": {},
   "outputs": [],
   "source": [
    "def print_successive_primes(iterations, base=10):\n",
    "    prime_generator = get_primes(base)\n",
    "    '''\n",
    "    When you're using send to \"start\" a generator (that is, execute the code from the first line of the generator \n",
    "    function up to the first yield statement), you must send None. This makes sense, since by definition the generator\n",
    "    hasn't gotten to the first yield statement yet, so if we sent a real value there would be nothing to \"receive\" it.\n",
    "    Once the generator is started, we can send values\n",
    "    \n",
    "    This is called pumping & priming\n",
    "    '''\n",
    "    prime_generator.send(None)\n",
    "    # This is also possible\n",
    "    # next(prime_generator)\n",
    "    for power in range(iterations):\n",
    "        '''\n",
    "        Get a value from the yield statement and also send a value to the generator\n",
    "        '''\n",
    "        print(prime_generator.send(base ** power))"
   ]
  },
  {
   "cell_type": "code",
   "execution_count": 16,
   "metadata": {},
   "outputs": [
    {
     "name": "stdout",
     "output_type": "stream",
     "text": [
      "2\n",
      "7\n",
      "29\n",
      "127\n",
      "631\n",
      "3137\n",
      "15629\n",
      "78137\n",
      "390647\n",
      "1953151\n"
     ]
    }
   ],
   "source": [
    "print_successive_primes(10, 5)"
   ]
  },
  {
   "cell_type": "code",
   "execution_count": null,
   "metadata": {},
   "outputs": [],
   "source": []
  }
 ],
 "metadata": {
  "kernelspec": {
   "display_name": "Python 3",
   "language": "python",
   "name": "python3"
  },
  "language_info": {
   "codemirror_mode": {
    "name": "ipython",
    "version": 3
   },
   "file_extension": ".py",
   "mimetype": "text/x-python",
   "name": "python",
   "nbconvert_exporter": "python",
   "pygments_lexer": "ipython3",
   "version": "3.6.4"
  }
 },
 "nbformat": 4,
 "nbformat_minor": 2
}

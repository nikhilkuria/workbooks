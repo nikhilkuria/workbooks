{
 "cells": [
  {
   "cell_type": "code",
   "execution_count": 19,
   "metadata": {},
   "outputs": [],
   "source": [
    "import numpy as np\n",
    "from random import randint"
   ]
  },
  {
   "cell_type": "markdown",
   "metadata": {},
   "source": [
    "### Initialise arrays"
   ]
  },
  {
   "cell_type": "code",
   "execution_count": 6,
   "metadata": {},
   "outputs": [],
   "source": [
    "data = np.zeros((4,4))"
   ]
  },
  {
   "cell_type": "code",
   "execution_count": 270,
   "metadata": {},
   "outputs": [],
   "source": [
    "data = np.random.randint(2, size=(10, 10))"
   ]
  },
  {
   "cell_type": "code",
   "execution_count": 271,
   "metadata": {},
   "outputs": [
    {
     "data": {
      "text/plain": [
       "array([[1, 1, 0, 1, 1, 0, 1, 1, 0, 0],\n",
       "       [1, 1, 0, 0, 1, 0, 1, 1, 1, 0],\n",
       "       [1, 0, 0, 0, 0, 0, 1, 0, 1, 1],\n",
       "       [0, 0, 1, 1, 1, 0, 1, 1, 0, 1],\n",
       "       [1, 0, 0, 1, 1, 1, 0, 0, 0, 1],\n",
       "       [0, 0, 0, 0, 0, 0, 0, 1, 0, 0],\n",
       "       [1, 1, 1, 1, 0, 1, 1, 0, 0, 1],\n",
       "       [0, 1, 0, 0, 0, 0, 0, 0, 1, 0],\n",
       "       [0, 1, 1, 1, 1, 1, 1, 0, 0, 1],\n",
       "       [1, 0, 1, 0, 0, 0, 1, 1, 0, 0]])"
      ]
     },
     "execution_count": 271,
     "metadata": {},
     "output_type": "execute_result"
    }
   ],
   "source": [
    "data"
   ]
  },
  {
   "cell_type": "code",
   "execution_count": 264,
   "metadata": {},
   "outputs": [],
   "source": [
    "# Initialize with the same size of an existing array\n",
    "data_zero = np.zeros_like(data)"
   ]
  },
  {
   "cell_type": "code",
   "execution_count": 265,
   "metadata": {},
   "outputs": [
    {
     "data": {
      "text/plain": [
       "array([[0, 0, 0, 0, 0, 0, 0, 0, 0, 0],\n",
       "       [0, 0, 0, 0, 0, 0, 0, 0, 0, 0],\n",
       "       [0, 0, 0, 0, 0, 0, 0, 0, 0, 0],\n",
       "       [0, 0, 0, 0, 0, 0, 0, 0, 0, 0],\n",
       "       [0, 0, 0, 0, 0, 0, 0, 0, 0, 0],\n",
       "       [0, 0, 0, 0, 0, 0, 0, 0, 0, 0],\n",
       "       [0, 0, 0, 0, 0, 0, 0, 0, 0, 0],\n",
       "       [0, 0, 0, 0, 0, 0, 0, 0, 0, 0],\n",
       "       [0, 0, 0, 0, 0, 0, 0, 0, 0, 0],\n",
       "       [0, 0, 0, 0, 0, 0, 0, 0, 0, 0]])"
      ]
     },
     "execution_count": 265,
     "metadata": {},
     "output_type": "execute_result"
    }
   ],
   "source": [
    "data_zero"
   ]
  },
  {
   "cell_type": "markdown",
   "metadata": {},
   "source": [
    "### Examples of aggregations"
   ]
  },
  {
   "cell_type": "markdown",
   "metadata": {},
   "source": [
    "##### https://jakevdp.github.io/PythonDataScienceHandbook/02.04-computation-on-arrays-aggregates.html"
   ]
  },
  {
   "cell_type": "code",
   "execution_count": 272,
   "metadata": {},
   "outputs": [
    {
     "data": {
      "text/plain": [
       "array([6, 5, 4, 5, 5, 3, 7, 5, 3, 5])"
      ]
     },
     "execution_count": 272,
     "metadata": {},
     "output_type": "execute_result"
    }
   ],
   "source": [
    "data.sum(axis=0)"
   ]
  },
  {
   "cell_type": "code",
   "execution_count": 273,
   "metadata": {},
   "outputs": [
    {
     "data": {
      "text/plain": [
       "array([6, 6, 4, 6, 5, 1, 7, 2, 7, 4])"
      ]
     },
     "execution_count": 273,
     "metadata": {},
     "output_type": "execute_result"
    }
   ],
   "source": [
    "data.sum(axis=1)"
   ]
  },
  {
   "cell_type": "code",
   "execution_count": 37,
   "metadata": {},
   "outputs": [
    {
     "data": {
      "text/plain": [
       "array([1, 4, 2, 4, 1, 1, 3, 1, 2, 2])"
      ]
     },
     "execution_count": 37,
     "metadata": {},
     "output_type": "execute_result"
    }
   ],
   "source": [
    "data[0]"
   ]
  },
  {
   "cell_type": "markdown",
   "metadata": {},
   "source": [
    "### Slicing an array"
   ]
  },
  {
   "cell_type": "code",
   "execution_count": 42,
   "metadata": {},
   "outputs": [],
   "source": [
    "# x[start:stop:step]\n",
    "slice = data[0][::2]"
   ]
  },
  {
   "cell_type": "code",
   "execution_count": 43,
   "metadata": {},
   "outputs": [
    {
     "data": {
      "text/plain": [
       "array([1, 2, 1, 3, 2])"
      ]
     },
     "execution_count": 43,
     "metadata": {},
     "output_type": "execute_result"
    }
   ],
   "source": [
    "slice"
   ]
  },
  {
   "cell_type": "code",
   "execution_count": 44,
   "metadata": {},
   "outputs": [],
   "source": [
    "# this slicing can also be done across all the axes\n",
    "slice2 = data[::2]"
   ]
  },
  {
   "cell_type": "code",
   "execution_count": 45,
   "metadata": {},
   "outputs": [
    {
     "data": {
      "text/plain": [
       "array([[1, 4, 2, 4, 1, 1, 3, 1, 2, 2],\n",
       "       [4, 2, 4, 2, 0, 2, 2, 2, 0, 0],\n",
       "       [3, 0, 0, 4, 4, 0, 0, 4, 3, 0],\n",
       "       [0, 1, 4, 4, 2, 2, 0, 2, 3, 3],\n",
       "       [3, 0, 2, 1, 3, 2, 4, 4, 4, 1]])"
      ]
     },
     "execution_count": 45,
     "metadata": {},
     "output_type": "execute_result"
    }
   ],
   "source": [
    "slice2"
   ]
  },
  {
   "cell_type": "code",
   "execution_count": 46,
   "metadata": {},
   "outputs": [
    {
     "name": "stdout",
     "output_type": "stream",
     "text": [
      "[1 4 2 4 1 1 3 1 2 2]\n",
      "[2 2 1 3 1 1 4 2 4 1]\n"
     ]
    }
   ],
   "source": [
    "# A potentially confusing case is when the step value is negative. \n",
    "# In this case, the defaults for start and stop are swapped. \n",
    "# This becomes a convenient way to reverse an array\n",
    "single_row = data[0]\n",
    "print(single_row)\n",
    "reversed_row = single_row[::-1]\n",
    "print(reversed_row)"
   ]
  },
  {
   "cell_type": "markdown",
   "metadata": {},
   "source": [
    "### More slicing of multi-dim arrays"
   ]
  },
  {
   "cell_type": "code",
   "execution_count": 48,
   "metadata": {},
   "outputs": [
    {
     "data": {
      "text/plain": [
       "array([[1, 4, 2, 4, 1],\n",
       "       [1, 0, 1, 1, 4],\n",
       "       [4, 2, 4, 2, 0]])"
      ]
     },
     "execution_count": 48,
     "metadata": {},
     "output_type": "execute_result"
    }
   ],
   "source": [
    "# This gived 3 rows and 5 columns\n",
    "slice = data[:3,:5]\n",
    "slice"
   ]
  },
  {
   "cell_type": "markdown",
   "metadata": {},
   "source": [
    "### Split an Array"
   ]
  },
  {
   "cell_type": "code",
   "execution_count": 14,
   "metadata": {},
   "outputs": [],
   "source": [
    "data = np.random.randint(5, size=(10, 10))"
   ]
  },
  {
   "cell_type": "code",
   "execution_count": 254,
   "metadata": {},
   "outputs": [],
   "source": [
    "def impose_components(img):\n",
    "    print(\"image shape\", img.shape)\n",
    "    single_channel_length = int(img.shape[0]/3)\n",
    "    print(single_channel_length)\n",
    "    return np.array(np.vsplit(img, (296,592)))"
   ]
  },
  {
   "cell_type": "code",
   "execution_count": 255,
   "metadata": {},
   "outputs": [],
   "source": [
    "data2 = np.random.randint(5, size=(887, 353))"
   ]
  },
  {
   "cell_type": "code",
   "execution_count": 262,
   "metadata": {},
   "outputs": [
    {
     "name": "stdout",
     "output_type": "stream",
     "text": [
      "image shape (887, 353)\n",
      "295\n",
      "(3,)\n",
      "(296, 353)\n",
      "(296, 353)\n",
      "(295, 353)\n"
     ]
    }
   ],
   "source": [
    "rgb_img = impose_components(data2)\n",
    "print(rgb_img.shape)\n",
    "print(rgb_img[0].shape)\n",
    "print(rgb_img[1].shape)\n",
    "print(rgb_img[2].shape)"
   ]
  },
  {
   "cell_type": "code",
   "execution_count": 263,
   "metadata": {},
   "outputs": [
    {
     "data": {
      "text/plain": [
       "887"
      ]
     },
     "execution_count": 263,
     "metadata": {},
     "output_type": "execute_result"
    }
   ],
   "source": [
    "(296*2)+295"
   ]
  },
  {
   "cell_type": "code",
   "execution_count": 208,
   "metadata": {},
   "outputs": [
    {
     "data": {
      "text/plain": [
       "array([[2, 1, 3, 4, 3, 2, 4, 0, 2, 3],\n",
       "       [0, 4, 2, 1, 3, 2, 3, 0, 2, 3],\n",
       "       [2, 4, 2, 4, 3, 4, 3, 3, 2, 0],\n",
       "       [1, 3, 4, 0, 4, 0, 0, 1, 1, 0],\n",
       "       [2, 1, 2, 0, 4, 4, 3, 0, 4, 3],\n",
       "       [1, 1, 0, 2, 0, 4, 1, 2, 3, 0],\n",
       "       [0, 2, 0, 1, 3, 1, 1, 4, 1, 3],\n",
       "       [3, 1, 0, 1, 0, 0, 4, 0, 4, 2],\n",
       "       [2, 4, 1, 0, 0, 4, 2, 0, 0, 2],\n",
       "       [0, 4, 0, 3, 3, 4, 0, 0, 4, 2]])"
      ]
     },
     "execution_count": 208,
     "metadata": {},
     "output_type": "execute_result"
    }
   ],
   "source": [
    "data"
   ]
  },
  {
   "cell_type": "code",
   "execution_count": 196,
   "metadata": {},
   "outputs": [
    {
     "data": {
      "text/plain": [
       "array([[[2, 1, 3, 4, 3],\n",
       "        [0, 4, 2, 1, 3],\n",
       "        [2, 4, 2, 4, 3],\n",
       "        [1, 3, 4, 0, 4],\n",
       "        [2, 1, 2, 0, 4],\n",
       "        [1, 1, 0, 2, 0],\n",
       "        [0, 2, 0, 1, 3],\n",
       "        [3, 1, 0, 1, 0],\n",
       "        [2, 4, 1, 0, 0],\n",
       "        [0, 4, 0, 3, 3]],\n",
       "\n",
       "       [[2, 4, 0, 2, 3],\n",
       "        [2, 3, 0, 2, 3],\n",
       "        [4, 3, 3, 2, 0],\n",
       "        [0, 0, 1, 1, 0],\n",
       "        [4, 3, 0, 4, 3],\n",
       "        [4, 1, 2, 3, 0],\n",
       "        [1, 1, 4, 1, 3],\n",
       "        [0, 4, 0, 4, 2],\n",
       "        [4, 2, 0, 0, 2],\n",
       "        [4, 0, 0, 4, 2]]])"
      ]
     },
     "execution_count": 196,
     "metadata": {},
     "output_type": "execute_result"
    }
   ],
   "source": [
    "np.array(np.hsplit(data,2))"
   ]
  },
  {
   "cell_type": "code",
   "execution_count": 252,
   "metadata": {},
   "outputs": [
    {
     "data": {
      "text/plain": [
       "[array([[2, 1, 3, 4, 3, 2],\n",
       "        [0, 4, 2, 1, 3, 2],\n",
       "        [2, 4, 2, 4, 3, 4],\n",
       "        [1, 3, 4, 0, 4, 0],\n",
       "        [2, 1, 2, 0, 4, 4],\n",
       "        [1, 1, 0, 2, 0, 4],\n",
       "        [0, 2, 0, 1, 3, 1],\n",
       "        [3, 1, 0, 1, 0, 0],\n",
       "        [2, 4, 1, 0, 0, 4],\n",
       "        [0, 4, 0, 3, 3, 4]]), array([[4, 0, 2],\n",
       "        [3, 0, 2],\n",
       "        [3, 3, 2],\n",
       "        [0, 1, 1],\n",
       "        [3, 0, 4],\n",
       "        [1, 2, 3],\n",
       "        [1, 4, 1],\n",
       "        [4, 0, 4],\n",
       "        [2, 0, 0],\n",
       "        [0, 0, 4]]), array([[3],\n",
       "        [3],\n",
       "        [0],\n",
       "        [0],\n",
       "        [3],\n",
       "        [0],\n",
       "        [3],\n",
       "        [2],\n",
       "        [2],\n",
       "        [2]])]"
      ]
     },
     "execution_count": 252,
     "metadata": {},
     "output_type": "execute_result"
    }
   ],
   "source": [
    "np.hsplit(data, (6,9))"
   ]
  },
  {
   "cell_type": "code",
   "execution_count": 198,
   "metadata": {},
   "outputs": [],
   "source": [
    "# If the split is not possible, an error is raised\n",
    "np.hsplit(data,3)"
   ]
  },
  {
   "cell_type": "code",
   "execution_count": 199,
   "metadata": {},
   "outputs": [
    {
     "data": {
      "text/plain": [
       "[array([[2, 1, 3, 4, 3, 2, 4, 0, 2, 3],\n",
       "        [0, 4, 2, 1, 3, 2, 3, 0, 2, 3],\n",
       "        [2, 4, 2, 4, 3, 4, 3, 3, 2, 0],\n",
       "        [1, 3, 4, 0, 4, 0, 0, 1, 1, 0],\n",
       "        [2, 1, 2, 0, 4, 4, 3, 0, 4, 3]]),\n",
       " array([[1, 1, 0, 2, 0, 4, 1, 2, 3, 0],\n",
       "        [0, 2, 0, 1, 3, 1, 1, 4, 1, 3],\n",
       "        [3, 1, 0, 1, 0, 0, 4, 0, 4, 2],\n",
       "        [2, 4, 1, 0, 0, 4, 2, 0, 0, 2],\n",
       "        [0, 4, 0, 3, 3, 4, 0, 0, 4, 2]])]"
      ]
     },
     "execution_count": 199,
     "metadata": {},
     "output_type": "execute_result"
    }
   ],
   "source": [
    "np.vsplit(data,2)"
   ]
  },
  {
   "cell_type": "markdown",
   "metadata": {},
   "source": [
    "### Accessing array rows and columns"
   ]
  },
  {
   "cell_type": "code",
   "execution_count": 52,
   "metadata": {},
   "outputs": [],
   "source": [
    "# Any row and columns can be accessed\n",
    "slice = data[:3,:5]"
   ]
  },
  {
   "cell_type": "code",
   "execution_count": 53,
   "metadata": {},
   "outputs": [
    {
     "data": {
      "text/plain": [
       "array([[1, 4, 2, 4, 1],\n",
       "       [1, 0, 1, 1, 4],\n",
       "       [4, 2, 4, 2, 0]])"
      ]
     },
     "execution_count": 53,
     "metadata": {},
     "output_type": "execute_result"
    }
   ],
   "source": [
    "slice"
   ]
  },
  {
   "cell_type": "code",
   "execution_count": 56,
   "metadata": {},
   "outputs": [
    {
     "data": {
      "text/plain": [
       "array([[1, 4],\n",
       "       [1, 0],\n",
       "       [4, 2]])"
      ]
     },
     "execution_count": 56,
     "metadata": {},
     "output_type": "execute_result"
    }
   ],
   "source": [
    "# The first two columns\n",
    "slice[:,0:2]"
   ]
  },
  {
   "cell_type": "code",
   "execution_count": 57,
   "metadata": {},
   "outputs": [
    {
     "data": {
      "text/plain": [
       "array([[1, 4, 2, 4, 1],\n",
       "       [1, 0, 1, 1, 4]])"
      ]
     },
     "execution_count": 57,
     "metadata": {},
     "output_type": "execute_result"
    }
   ],
   "source": [
    "# The first two rows\n",
    "slice[0:2,:]"
   ]
  },
  {
   "cell_type": "markdown",
   "metadata": {},
   "source": [
    "### Finding the border execrcise"
   ]
  },
  {
   "cell_type": "code",
   "execution_count": 178,
   "metadata": {},
   "outputs": [],
   "source": [
    "data = np.random.randint(100, size=(20))\n",
    "threshold = 190"
   ]
  },
  {
   "cell_type": "code",
   "execution_count": 179,
   "metadata": {},
   "outputs": [
    {
     "data": {
      "text/plain": [
       "array([66, 91, 25,  3, 96, 78, 40, 49, 43, 51, 85, 39, 99, 41, 16, 82, 14,\n",
       "        9, 41, 75])"
      ]
     },
     "execution_count": 179,
     "metadata": {},
     "output_type": "execute_result"
    }
   ],
   "source": [
    "data"
   ]
  },
  {
   "cell_type": "code",
   "execution_count": 180,
   "metadata": {},
   "outputs": [],
   "source": [
    "data[1] = 200\n",
    "data[2] = 2\n",
    "data[3] = 194\n",
    "data[16] = 195\n",
    "data[19] = 199"
   ]
  },
  {
   "cell_type": "code",
   "execution_count": 181,
   "metadata": {},
   "outputs": [
    {
     "data": {
      "text/plain": [
       "array([ 66, 200,   2, 194,  96,  78,  40,  49,  43,  51,  85,  39,  99,\n",
       "        41,  16,  82, 195,   9,  41, 199])"
      ]
     },
     "execution_count": 181,
     "metadata": {},
     "output_type": "execute_result"
    }
   ],
   "source": [
    "data"
   ]
  },
  {
   "cell_type": "code",
   "execution_count": 182,
   "metadata": {},
   "outputs": [
    {
     "name": "stdout",
     "output_type": "stream",
     "text": [
      "8\n"
     ]
    },
    {
     "data": {
      "text/plain": [
       "array([ 66, 200,   2, 194,  96,  78,  40,  49])"
      ]
     },
     "execution_count": 182,
     "metadata": {},
     "output_type": "execute_result"
    }
   ],
   "source": [
    "border_area = int(len(data)*.4)\n",
    "print(border_area)\n",
    "data[:border_area:]"
   ]
  },
  {
   "cell_type": "code",
   "execution_count": 183,
   "metadata": {},
   "outputs": [],
   "source": [
    "def find_border_index(data, border_size = .4):\n",
    "    border_region_size = int(len(data) * border_size)\n",
    "    border_region = data[:border_region_size:]\n",
    "    for index, number in np.ndenumerate(border_region):\n",
    "        if data[index[0]] > threshold:\n",
    "            if data[index[0]] > data[index[0]+1]:\n",
    "                border_index = index[0]\n",
    "    return border_index"
   ]
  },
  {
   "cell_type": "code",
   "execution_count": 190,
   "metadata": {},
   "outputs": [],
   "source": [
    "def find_border_indexes_for_array(array):\n",
    "    left_border = find_border_index(array)\n",
    "    right_border = len(array) - find_border_index(array[::-1]) - 1\n",
    "    \n",
    "    return left_border, right_border"
   ]
  },
  {
   "cell_type": "code",
   "execution_count": 191,
   "metadata": {},
   "outputs": [
    {
     "name": "stdout",
     "output_type": "stream",
     "text": [
      "(3, 16)\n"
     ]
    }
   ],
   "source": [
    "print(find_border_indexes_for_array(data))"
   ]
  },
  {
   "cell_type": "code",
   "execution_count": 142,
   "metadata": {},
   "outputs": [
    {
     "name": "stdout",
     "output_type": "stream",
     "text": [
      "63\n",
      "200\n",
      "2\n",
      "0\n",
      "50\n",
      "95\n",
      "22\n",
      "197\n",
      "197\n",
      "29\n",
      "97\n",
      "67\n",
      "51\n",
      "54\n",
      "80\n",
      "1\n",
      "20\n",
      "27\n",
      "94\n",
      "8\n"
     ]
    }
   ],
   "source": [
    "border_index = 0\n",
    "for index, number in np.ndenumerate(data[:-1]):\n",
    "    if data[index[0]] > threshold:\n",
    "        if data[index[0]] > data[index[0]+1]:\n",
    "            border_index = index[0]\n",
    "print(border_index)\n",
    "    "
   ]
  },
  {
   "cell_type": "code",
   "execution_count": 159,
   "metadata": {},
   "outputs": [
    {
     "name": "stdout",
     "output_type": "stream",
     "text": [
      "[ 57  94  27  20   1  80  54  51  67  97  29 197 197  22  95  50   0   2\n",
      " 200  63]\n",
      "18\n"
     ]
    }
   ],
   "source": [
    "border_index = 0\n",
    "reverse_array = data[::-1]\n",
    "print(reverse_array)\n",
    "for index, number in np.ndenumerate(reverse_array[:-1]):\n",
    "    if reverse_array[index[0]] > threshold:\n",
    "        if reverse_array[index[0]] > reverse_array[index[0]+1]:\n",
    "            border_index = index[0]\n",
    "print(border_index)"
   ]
  },
  {
   "cell_type": "code",
   "execution_count": null,
   "metadata": {},
   "outputs": [],
   "source": []
  },
  {
   "cell_type": "code",
   "execution_count": null,
   "metadata": {},
   "outputs": [],
   "source": []
  }
 ],
 "metadata": {
  "kernelspec": {
   "display_name": "Python 3",
   "language": "python",
   "name": "python3"
  },
  "language_info": {
   "codemirror_mode": {
    "name": "ipython",
    "version": 3
   },
   "file_extension": ".py",
   "mimetype": "text/x-python",
   "name": "python",
   "nbconvert_exporter": "python",
   "pygments_lexer": "ipython3",
   "version": "3.6.4"
  }
 },
 "nbformat": 4,
 "nbformat_minor": 2
}
